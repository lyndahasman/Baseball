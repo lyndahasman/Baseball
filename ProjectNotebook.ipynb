{
 "cells": [
  {
   "cell_type": "markdown",
   "metadata": {},
   "source": [
    "# Project Description"
   ]
  },
  {
   "cell_type": "markdown",
   "metadata": {},
   "source": [
    "## Description\n",
    "\n",
    "My Project is a data creation tool on baseball statistics. \n",
    "\n",
    "The code asks the user for an input of whether or not the player is a hitter or a pitcher and then asks for the respected inputs based on that. \n",
    "\n",
    "## Useage\n",
    "\n",
    "After the user inputs their desired numbers, the code will return \n",
    "statistics used by the MLB and a player with similar statistics along with that. (Based on their statistics as of 6/10/2024)\n",
    "\n",
    "## Examples\n",
    "\n",
    "Below I have included three examples, one of Fernando Tatis Jr.'s actual stats, one of a hitter, and also one of a pitcher. The code is already ran but I left an empty cell with the function in it so run the code and input your own numbers to see the statistics be calculated :)\n",
    "\n",
    "\n",
    "## Knowledge \n",
    "\n",
    "This code would work a lot better if the user has prior knowledge of baseball but it works fine if you dont."
   ]
  },
  {
   "cell_type": "markdown",
   "metadata": {},
   "source": [
    "## Project Code"
   ]
  },
  {
   "cell_type": "code",
   "execution_count": 9,
   "metadata": {},
   "outputs": [],
   "source": [
    "from my_module.functions import main"
   ]
  },
  {
   "cell_type": "code",
   "execution_count": 45,
   "metadata": {},
   "outputs": [],
   "source": [
    "# Fernando Tatis Jr. Stats\n",
    "# Hits : 79\n",
    "# At Bats : 275 \n",
    "# 28 Walks\n",
    "# 5 Hit by pitch\n",
    "# 52 Singles \n",
    "# 13 Doubles\n",
    "# 1 Triple\n",
    "# 13 Home runs\n",
    "\n",
    "# I ran my code with his stats below to demonstrate that it would return him as the player"
   ]
  },
  {
   "cell_type": "code",
   "execution_count": 44,
   "metadata": {},
   "outputs": [
    {
     "name": "stdout",
     "output_type": "stream",
     "text": [
      "Is the player a hitter or a pitcher? hitter\n",
      "Please enter the player's number of hits: 79\n",
      "Please enter the player's number of walks: 28\n",
      "Please enter how many times they have been hit by a pitch: 5\n",
      "Please enter the player's at bats: 275\n",
      "Please enter the player's number of sacrifice flies: 0\n",
      "Please enter the number of singles the player has: 52\n",
      "Please enter the number of doubles the player has: 13\n",
      "Please enter the number of triples the player has: 1\n",
      "Please enter the number of home runs the player has: 13\n",
      "Batting Average: 0.287\n",
      "On-Base Percentage: 0.364\n",
      "Slugging Percentage: 0.484\n",
      "Closest Player: Your hitter is closest to Padres player Fernando Tatis Jr\n"
     ]
    }
   ],
   "source": [
    "main()"
   ]
  },
  {
   "cell_type": "code",
   "execution_count": 46,
   "metadata": {},
   "outputs": [],
   "source": [
    "# The two below are just examples"
   ]
  },
  {
   "cell_type": "code",
   "execution_count": 13,
   "metadata": {},
   "outputs": [
    {
     "name": "stdout",
     "output_type": "stream",
     "text": [
      "Is the player a hitter or a pitcher? pitcher\n",
      "Please enter the player's number of walks: 20\n",
      "Please enter the number of innings pitched: 100\n",
      "Please enter the number of hits allowed: 40\n",
      "Please enter the number of times the pitcher has hit a player with a pitch: 16\n",
      "Please enter the number of strikeouts they have: 40\n",
      "Please enter the number of earned runs they have: 28\n",
      "ERA: 2.52\n",
      "WHIP: 0.600\n",
      "Strikeouts per 9 innings: 3.60\n",
      "Walk Percentage: 5.32%\n",
      "Closest Player: Your pitcher is closest to Padres player Enyel De Los Santos\n"
     ]
    }
   ],
   "source": [
    "main()"
   ]
  },
  {
   "cell_type": "code",
   "execution_count": 5,
   "metadata": {},
   "outputs": [
    {
     "name": "stdout",
     "output_type": "stream",
     "text": [
      "Is the player a hitter or a pitcher? hitter\n",
      "Please enter the player's number of hits: 25\n",
      "Please enter the player's number of walks: 13\n",
      "Please enter how many times they have been hit by a pitch: 2\n",
      "Please enter the player's at bats: 100\n",
      "Please enter the player's number of sacrifice flies: 4\n",
      "Please enter the number of singles the player has: 11\n",
      "Please enter the number of doubles the player has: 4\n",
      "Please enter the number of triples the player has: 1\n",
      "Please enter the number of home runs the player has: 6\n",
      "Batting Average: 0.250\n",
      "On-Base Percentage: 0.336\n",
      "Slugging Percentage: 0.460\n",
      "Closest Player: Your hitter is closest to Padres player Jake Cronenworth\n"
     ]
    }
   ],
   "source": [
    "main()"
   ]
  },
  {
   "cell_type": "code",
   "execution_count": null,
   "metadata": {},
   "outputs": [],
   "source": [
    "# Here is a cell to run your own if you would like !\n",
    "\n",
    "main()"
   ]
  },
  {
   "cell_type": "code",
   "execution_count": 38,
   "metadata": {},
   "outputs": [],
   "source": [
    "## test it out\n",
    "\n",
    "def test_on_base_percentage_calculation():\n",
    "    hits = 50\n",
    "    walks = 20\n",
    "    hit_by_pitch = 5\n",
    "    at_bats = 200\n",
    "    sacrifice_flies = 10\n",
    "    expected_obp = 0.3\n",
    "    \n",
    "    result = on_base_percentage(hits, walks, hit_by_pitch, at_bats, sacrifice_flies)\n",
    "    \n",
    "    assert result == expected_obp, f\"Expected OBP: {expected_obp}, but got: {result}\"\n",
    "    \n",
    "def test_slugging_percentage_calculation():\n",
    "    singles = 40\n",
    "    doubles = 10\n",
    "    triples = 2\n",
    "    home_runs = 5\n",
    "    at_bats = 200\n",
    "    expected_slugging = 0.4\n",
    "    \n",
    "    result = slugging(singles, doubles, triples, home_runs, at_bats)\n",
    "    \n",
    "    assert result == expected_slugging, f\"Expected slugging percentage: {expected_slugging}, but got: {result}\"\n",
    "    \n",
    "def test_batting_average_calculation():\n",
    "    hits = 50\n",
    "    at_bats = 200\n",
    "    expected_batting_average = 0.25\n",
    "    \n",
    "    result = batting_average(hits, at_bats)\n",
    "    \n",
    "    assert result == expected_batting_average, f\"Expected batting average: {expected_batting_average}, but got: {result}\""
   ]
  },
  {
   "cell_type": "markdown",
   "metadata": {},
   "source": [
    "#### Extra Credit (*optional*)\n",
    "\n",
    "Replace all of this text with a brief explanation (~3 sentences) of: \n",
    "\n",
    "1. I took AP computer science in high school but dropped out the first week because it was hard so I have zero expirience with python except for those 3 days in high school. \n",
    "\n",
    "2. I think I did a lot to go above and beyond on my project. Originally my project was just going to be hitting statistics but then I decided I wanted to make it a whole interactive bot where it will return a players statistics based on user input. I think my implementation of having both hitting and pitching statistics doubled my workload for this project and is deserving of extra credit. Along with this, I was just going to stop at returning the statistics but decided to go above and beyond by adding the portion where it returns a padres player the user player is similar to. This by far was the most challenging part of the code and I spent multiple hours trying to make it run correctly when I could have just stopped at the statistics part of the project."
   ]
  }
 ],
 "metadata": {
  "kernelspec": {
   "display_name": "Python 3 (ipykernel)",
   "language": "python",
   "name": "python3"
  },
  "language_info": {
   "codemirror_mode": {
    "name": "ipython",
    "version": 3
   },
   "file_extension": ".py",
   "mimetype": "text/x-python",
   "name": "python",
   "nbconvert_exporter": "python",
   "pygments_lexer": "ipython3",
   "version": "3.9.5"
  }
 },
 "nbformat": 4,
 "nbformat_minor": 2
}
