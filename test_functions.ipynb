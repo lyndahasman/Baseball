{
 "cells": [
  {
   "cell_type": "code",
   "execution_count": 1,
   "id": "4d9e8ce6",
   "metadata": {},
   "outputs": [],
   "source": [
    "def test_on_base_percentage_calculation():\n",
    "    hits = 50\n",
    "    walks = 20\n",
    "    hit_by_pitch = 5\n",
    "    at_bats = 200\n",
    "    sacrifice_flies = 10\n",
    "    expected_obp = 0.3\n",
    "    \n",
    "    result = on_base_percentage(hits, walks, hit_by_pitch, at_bats, sacrifice_flies)\n",
    "    \n",
    "    assert result == expected_obp, f\"Expected OBP: {expected_obp}, but got: {result}\"\n",
    "    \n",
    "def test_slugging_percentage_calculation():\n",
    "    singles = 40\n",
    "    doubles = 10\n",
    "    triples = 2\n",
    "    home_runs = 5\n",
    "    at_bats = 200\n",
    "    expected_slugging = 0.4\n",
    "    \n",
    "    result = slugging(singles, doubles, triples, home_runs, at_bats)\n",
    "    \n",
    "    assert result == expected_slugging, f\"Expected slugging percentage: {expected_slugging}, but got: {result}\"\n",
    "    \n",
    "def test_batting_average_calculation():\n",
    "    hits = 50\n",
    "    at_bats = 200\n",
    "    expected_batting_average = 0.25\n",
    "    \n",
    "    result = batting_average(hits, at_bats)\n",
    "    \n",
    "    assert result == expected_batting_average, f\"Expected batting average: {expected_batting_average}, but got: {result}\""
   ]
  }
 ],
 "metadata": {
  "kernelspec": {
   "display_name": "Python 3 (ipykernel)",
   "language": "python",
   "name": "python3"
  },
  "language_info": {
   "codemirror_mode": {
    "name": "ipython",
    "version": 3
   },
   "file_extension": ".py",
   "mimetype": "text/x-python",
   "name": "python",
   "nbconvert_exporter": "python",
   "pygments_lexer": "ipython3",
   "version": "3.9.5"
  }
 },
 "nbformat": 4,
 "nbformat_minor": 5
}
